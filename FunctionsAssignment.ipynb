{
  "nbformat": 4,
  "nbformat_minor": 0,
  "metadata": {
    "colab": {
      "provenance": []
    },
    "kernelspec": {
      "name": "python3",
      "display_name": "Python 3"
    },
    "language_info": {
      "name": "python"
    }
  },
  "cells": [
    {
      "cell_type": "markdown",
      "source": [
        "# 1. What is the difference between a function and a method in Python?"
      ],
      "metadata": {
        "id": "prxZ3Hti1Yfw"
      }
    },
    {
      "cell_type": "code",
      "execution_count": null,
      "metadata": {
        "colab": {
          "base_uri": "https://localhost:8080/"
        },
        "id": "brZ3RkR70V_V",
        "outputId": "7d316ecf-351f-4c9e-aa4a-b8bb1d854249"
      },
      "outputs": [
        {
          "output_type": "stream",
          "name": "stdout",
          "text": [
            "6\n"
          ]
        }
      ],
      "source": [
        "\"\"\" Function : A function is a block of  code that performs a specific task.\n",
        "            2. It is resuable .\n",
        "            3. It is defined using \"def\" keyword. \"\"\"\n",
        "\n",
        "\n",
        "def my_func(x):\n",
        "    return x + 1\n",
        "\n",
        "result = my_func(5)\n",
        "\n",
        "print(result)"
      ]
    },
    {
      "cell_type": "code",
      "source": [
        "\"\"\" Method: method is similar to a function but is associated with an object or a class.\n",
        "          2. It is defined within a class.\n",
        "          3. Methods are called on objects or instances of a class.\n",
        "          4. They can access and modify the data contained in the instance.\"\"\"\n",
        "\n",
        "\n",
        "class MyClass:\n",
        "    def my_meth(self, x):\n",
        "        return x + 1\n",
        "\n",
        "obj = MyClass()\n",
        "result = obj.my_meth(5)\n",
        "\n",
        "print(result)\n"
      ],
      "metadata": {
        "colab": {
          "base_uri": "https://localhost:8080/"
        },
        "id": "w2LZifdO2xAu",
        "outputId": "3f85693a-eea7-45e3-dc85-1f32c1210f78"
      },
      "execution_count": null,
      "outputs": [
        {
          "output_type": "stream",
          "name": "stdout",
          "text": [
            "6\n"
          ]
        }
      ]
    },
    {
      "cell_type": "markdown",
      "source": [
        "# 2. Explain the concept of function arguments and parameters in Python."
      ],
      "metadata": {
        "id": "cgB7sw2n4GET"
      }
    },
    {
      "cell_type": "code",
      "source": [
        "\"\"\" Parameters:  Parameters are the variables listed inside the parentheses in the function definition.\"\"\"\n",
        "\n",
        "def my_func(par1, par2):\n",
        "    return par1 + par2\n",
        "\n"
      ],
      "metadata": {
        "id": "unbpUz8036-d"
      },
      "execution_count": null,
      "outputs": []
    },
    {
      "cell_type": "code",
      "source": [
        "\"\"\" Arguments : Arguments are the actual values passed to the function when it is called.\"\"\"\n",
        "\n",
        "# def my_func(par1, par2):\n",
        " #   return par1 + par2\n",
        "\n",
        "result = my_func(5, 10)\n",
        "\n"
      ],
      "metadata": {
        "id": "vcQqnUYn5WbK"
      },
      "execution_count": null,
      "outputs": []
    },
    {
      "cell_type": "markdown",
      "source": [
        "# 3. What are the different ways to define and call a function in Python"
      ],
      "metadata": {
        "id": "WUETDavU6MaU"
      }
    },
    {
      "cell_type": "code",
      "source": [
        "# There are many ways to call a function .\n",
        "\n",
        "def my_func():\n",
        "    print(\"Hello, world!\")\n",
        "my_func()"
      ],
      "metadata": {
        "colab": {
          "base_uri": "https://localhost:8080/"
        },
        "id": "uRTNkzR450vJ",
        "outputId": "fbea6a34-656e-4f38-8a09-e38a248070c8"
      },
      "execution_count": null,
      "outputs": [
        {
          "output_type": "stream",
          "name": "stdout",
          "text": [
            "Hello, world!\n"
          ]
        }
      ]
    },
    {
      "cell_type": "code",
      "source": [
        "# 2. Function with Parameters\n",
        "\n",
        "def add(a, b):\n",
        "    return a + b\n",
        "add(3 , 5)"
      ],
      "metadata": {
        "colab": {
          "base_uri": "https://localhost:8080/"
        },
        "id": "rjYg9in77QM3",
        "outputId": "abdfc400-552d-46c1-b44f-5febe4e421e8"
      },
      "execution_count": null,
      "outputs": [
        {
          "output_type": "execute_result",
          "data": {
            "text/plain": [
              "8"
            ]
          },
          "metadata": {},
          "execution_count": 10
        }
      ]
    },
    {
      "cell_type": "code",
      "source": [
        "# 3. Function with Default Parameters\n",
        "\n",
        "def greet(name, greeting = \"Hello\"):\n",
        "    return f\"{greeting}, {name}!\"\n",
        "\n",
        "\n",
        "print(greet(\"Ram\"))\n",
        "print(greet(\"Shayam\", \"Hi\"))\n"
      ],
      "metadata": {
        "colab": {
          "base_uri": "https://localhost:8080/"
        },
        "id": "EzoP5n667fzB",
        "outputId": "9eab3e60-bfbc-4a67-86e7-18945c32dd9c"
      },
      "execution_count": null,
      "outputs": [
        {
          "output_type": "stream",
          "name": "stdout",
          "text": [
            "Hello, Ram!\n",
            "Hi, Shayam!\n"
          ]
        }
      ]
    },
    {
      "cell_type": "code",
      "source": [
        "# 4. Function with Variable-Length Arguments\n",
        "\n",
        "def sum_all(*args):\n",
        "    return sum(args)\n",
        "\n",
        "sum_all(1, 2, 3, 4)\n"
      ],
      "metadata": {
        "colab": {
          "base_uri": "https://localhost:8080/"
        },
        "id": "TIz8SZAg7vPD",
        "outputId": "77c72b55-e71e-4717-eff4-c8dd81c6b88a"
      },
      "execution_count": null,
      "outputs": [
        {
          "output_type": "execute_result",
          "data": {
            "text/plain": [
              "10"
            ]
          },
          "metadata": {},
          "execution_count": 14
        }
      ]
    },
    {
      "cell_type": "code",
      "source": [
        "# **kwargs for Keyword Arguments:\n",
        "\n",
        "def print_values(**kwargs):\n",
        "    for key, value in kwargs.items():\n",
        "        print(f\"{key}: {value}\")\n",
        "\n",
        "\n",
        "print_values(a=1, b=2, c=3)\n",
        "\n"
      ],
      "metadata": {
        "colab": {
          "base_uri": "https://localhost:8080/"
        },
        "id": "3AUOyc3w8RUM",
        "outputId": "642d43f4-833f-4842-92d0-9ab53ffbd538"
      },
      "execution_count": null,
      "outputs": [
        {
          "output_type": "stream",
          "name": "stdout",
          "text": [
            "a: 1\n",
            "b: 2\n",
            "c: 3\n"
          ]
        }
      ]
    },
    {
      "cell_type": "code",
      "source": [
        "# 5. Lambda Functions:\n",
        "\n",
        "add = lambda x, y: x + y\n",
        "\n",
        "add(3, 4)\n"
      ],
      "metadata": {
        "colab": {
          "base_uri": "https://localhost:8080/"
        },
        "id": "NPYhZ8c38qLv",
        "outputId": "2167f74d-53f9-4a14-c461-3b5830d6b157"
      },
      "execution_count": null,
      "outputs": [
        {
          "output_type": "execute_result",
          "data": {
            "text/plain": [
              "7"
            ]
          },
          "metadata": {},
          "execution_count": 16
        }
      ]
    },
    {
      "cell_type": "code",
      "source": [
        "# 6. Nested Functions\n",
        "\n",
        "def outer_function(x):\n",
        "    def inner_function(y):\n",
        "        return x + y\n",
        "    return inner_function\n",
        "\n",
        "add_five = outer_function(5)\n",
        "result = add_five(3)\n",
        "\n",
        "\n",
        "print(result)"
      ],
      "metadata": {
        "colab": {
          "base_uri": "https://localhost:8080/"
        },
        "id": "jrTbKbCY85os",
        "outputId": "5f34f1b8-0ede-4f15-b667-dbc293c7a419"
      },
      "execution_count": null,
      "outputs": [
        {
          "output_type": "stream",
          "name": "stdout",
          "text": [
            "8\n"
          ]
        }
      ]
    },
    {
      "cell_type": "code",
      "source": [
        "# 7. Functions as Arguments\n",
        "\n",
        "def apply_function(func, value):\n",
        "    return func(value)\n",
        "\n",
        "def square(x):\n",
        "    return x * x\n",
        "\n",
        "result = apply_function(square, 4)\n",
        "\n",
        "print(result)\n"
      ],
      "metadata": {
        "colab": {
          "base_uri": "https://localhost:8080/"
        },
        "id": "FXRphC4S9EjF",
        "outputId": "e1e774ec-3ff0-44fd-9485-afa945fba7a2"
      },
      "execution_count": null,
      "outputs": [
        {
          "output_type": "stream",
          "name": "stdout",
          "text": [
            "16\n"
          ]
        }
      ]
    },
    {
      "cell_type": "markdown",
      "source": [
        "# 4. What is the purpose of the `return` statement in a Python function?"
      ],
      "metadata": {
        "id": "M4zb4kxx92od"
      }
    },
    {
      "cell_type": "code",
      "source": [
        "\"\"\" 1. Returning a Value:\n",
        "\n",
        "The primary purpose of the return statement is to exit a function and return a value to the caller. \"\"\"\n",
        "\n",
        "def add(a, b):\n",
        "    return a + b\n",
        "\n",
        "result = add(5, 3)\n",
        "\n",
        "print(result)\n",
        "\n"
      ],
      "metadata": {
        "colab": {
          "base_uri": "https://localhost:8080/"
        },
        "id": "EfjU7OYg90NK",
        "outputId": "c3a5dba0-2171-4875-f383-0be3a6e0c90a"
      },
      "execution_count": null,
      "outputs": [
        {
          "output_type": "stream",
          "name": "stdout",
          "text": [
            "8\n"
          ]
        }
      ]
    },
    {
      "cell_type": "code",
      "source": [
        "\"\"\" 2. Exiting a Function Early:\n",
        "\n",
        "The return statement can be used to exit a function before reaching the end of its code block.\n",
        " This is useful for terminating a function based on certain conditions. \"\"\"\n",
        "\n",
        "def check_even(number):\n",
        "    if number % 2 == 0:\n",
        "        return True\n",
        "    return False\n",
        "\n",
        "is_even = check_even(4)\n",
        "print(is_even)\n",
        "\n"
      ],
      "metadata": {
        "colab": {
          "base_uri": "https://localhost:8080/"
        },
        "id": "Y58KjFp4_SsH",
        "outputId": "37e46631-8961-480c-b947-280d620a5cdd"
      },
      "execution_count": null,
      "outputs": [
        {
          "output_type": "stream",
          "name": "stdout",
          "text": [
            "True\n"
          ]
        }
      ]
    },
    {
      "cell_type": "code",
      "source": [
        "\"\"\" 3. Returning Multiple Values:\n",
        "\n",
        "A function can return multiple values using a tuple.\n",
        "This allows for more flexible data handling and can be unpacked by the caller.\"\"\"\n",
        "\n",
        "def get_name_and_age():\n",
        "    name = \"Munna\"\n",
        "    age = 30\n",
        "    return name, age\n",
        "\n",
        "name, age = get_name_and_age()  # name is \"Alice\", age is 30\n",
        "\n",
        "\n",
        "print(name, age)"
      ],
      "metadata": {
        "colab": {
          "base_uri": "https://localhost:8080/"
        },
        "id": "QUJA-Ymt_sb1",
        "outputId": "b6b15556-62f2-4efc-fe71-0c1f0aaa9694"
      },
      "execution_count": null,
      "outputs": [
        {
          "output_type": "stream",
          "name": "stdout",
          "text": [
            "Munna 30\n"
          ]
        }
      ]
    },
    {
      "cell_type": "markdown",
      "source": [
        "# 5. What are iterators in Python and how do they differ from iterables?"
      ],
      "metadata": {
        "id": "DM7wx5eIATv3"
      }
    },
    {
      "cell_type": "code",
      "source": [
        "\"\"\" Iterables:\n",
        " An iterable is any Python object capable of returning its members one at a time, allowing it to be looped over in a for loop.\n",
        " 2.  Examples of iterables include lists, tuples, dictionaries, sets, and strings.\n",
        "\n",
        "How it works: An object is considered iterable if it implements the __iter__ method, which returns an iterator.\"\"\"\n",
        "\n",
        "my_list = [1, 2, 3, 4]\n",
        "for item in my_list:\n",
        "    print(item)\n"
      ],
      "metadata": {
        "colab": {
          "base_uri": "https://localhost:8080/"
        },
        "id": "7DvzkCd-AH-V",
        "outputId": "c8e147ef-42bc-42a2-b1ee-d91387e58512"
      },
      "execution_count": null,
      "outputs": [
        {
          "output_type": "stream",
          "name": "stdout",
          "text": [
            "1\n",
            "2\n",
            "3\n",
            "4\n"
          ]
        }
      ]
    },
    {
      "cell_type": "code",
      "source": [
        "\"\"\" Iterators:\n",
        " An iterator is an object that represents a stream of data; it returns the next value in the sequence each time its '__next__' method is called.\n",
        "  Once all values are exhausted, it raises a 'StopIteration' exception.\n",
        "\n",
        "How it works: An object is considered an iterator if it implements both the __iter__ and __next__ methods.\"\"\"\n",
        "\n",
        "my_list = [1, 2, 3, 4]\n",
        "iterator = iter(my_list)\n",
        "print(next(iterator))\n",
        "print(next(iterator))\n"
      ],
      "metadata": {
        "colab": {
          "base_uri": "https://localhost:8080/"
        },
        "id": "bcVGayIOBxal",
        "outputId": "b6e04a0a-39de-41bc-83cb-e675d2133104"
      },
      "execution_count": null,
      "outputs": [
        {
          "output_type": "stream",
          "name": "stdout",
          "text": [
            "<list_iterator object at 0x7bd4f645eda0>\n"
          ]
        }
      ]
    },
    {
      "cell_type": "markdown",
      "source": [
        "# 6. Explain the concept of generators in Python and how they are defined."
      ],
      "metadata": {
        "id": "Q8497wm8C_UL"
      }
    },
    {
      "cell_type": "code",
      "source": [
        "\"\"\" A generator function is defined like a regular function but uses the yield keyword to yield values one at a time.\n",
        "Each time yield is encountered, the generator function pauses its execution and returns the yielded value.\n",
        " When the generator is iterated over, execution resumes from the point after the last yield statement.\"\"\"\n",
        "\n",
        "def simple_generator():\n",
        "    yield 1\n",
        "    yield 2\n",
        "    yield 3\n",
        "\n",
        "gen = simple_generator()\n",
        "print(next(gen))\n",
        "print(next(gen))\n",
        "print(next(gen))\n"
      ],
      "metadata": {
        "colab": {
          "base_uri": "https://localhost:8080/"
        },
        "id": "Z0rkaU3CCwfg",
        "outputId": "225a60e0-f3ff-4aec-c4db-cbb0760327bd"
      },
      "execution_count": null,
      "outputs": [
        {
          "output_type": "stream",
          "name": "stdout",
          "text": [
            "1\n",
            "2\n",
            "3\n"
          ]
        }
      ]
    },
    {
      "cell_type": "code",
      "source": [
        "# Using a Loop:\n",
        "for value in simple_generator():\n",
        "    print(value)\n"
      ],
      "metadata": {
        "colab": {
          "base_uri": "https://localhost:8080/"
        },
        "id": "thUpJq1uEyjA",
        "outputId": "05708431-d992-41c8-a9dd-86a040893e95"
      },
      "execution_count": null,
      "outputs": [
        {
          "output_type": "stream",
          "name": "stdout",
          "text": [
            "1\n",
            "2\n",
            "3\n"
          ]
        }
      ]
    },
    {
      "cell_type": "code",
      "source": [
        "\"\"\" Generator Expressions:\n",
        "\n",
        "Generator expressions are similar to list comprehensions but use parentheses instead of square brackets. They provide a concise way to create generators.\"\"\"\n",
        "\n",
        "gen_expr = (x * x for x in range(5))\n",
        "\n",
        "for value in gen_expr:\n",
        "    print(value)\n"
      ],
      "metadata": {
        "colab": {
          "base_uri": "https://localhost:8080/"
        },
        "id": "0r4aq54FE2iL",
        "outputId": "8e5071a0-8939-443b-f521-d19204ee2fbe"
      },
      "execution_count": null,
      "outputs": [
        {
          "output_type": "stream",
          "name": "stdout",
          "text": [
            "0\n",
            "1\n",
            "4\n",
            "9\n",
            "16\n"
          ]
        }
      ]
    },
    {
      "cell_type": "markdown",
      "source": [
        "# 7. What are the advantages of using generators over regular functions?"
      ],
      "metadata": {
        "id": "g6pd2_V2Fal8"
      }
    },
    {
      "cell_type": "code",
      "source": [
        "\"\"\" Generators in Python offers several advantages over regular functions, especially when dealing with large datasets or streams of data. Here are some key benefits:\n",
        "\n",
        "1. Memory Efficiency\n",
        "Generators: Generate values on-the-fly and do not store the entire sequence in memory. This is particularly useful for large datasets or infinite sequences.\n",
        "Regular Functions: Typically return lists or other collections, which can consume a lot of memory if the dataset is large.\n",
        "\n",
        "2. Lazy Evaluation\n",
        "Generators: Compute and yield each value only when requested, which can lead to performance improvements by avoiding unnecessary computations.\n",
        "Regular Functions: Compute all values at once and return them, which can be inefficient if only a subset of values is needed.\n",
        "\n",
        "3. Improved Performance\n",
        "Generators: Can start producing results immediately and do not require waiting for all values to be computed, which can reduce latency.\n",
        "Regular Functions: Require the entire result set to be computed before returning, which can introduce delays.\n",
        "\n",
        "4. Statefulness\n",
        "Generators: Maintain their state between successive calls, allowing them to remember where they left off. This can simplify code that needs to keep track of its progress.\n",
        "Regular Functions: Do not maintain state between calls, which may require additional logic to track progress.\n",
        "\n",
        "5. Cleaner Code\n",
        "Generators: Can make code more readable and concise by abstracting the iteration process and handling complex logic internally.\n",
        "Regular Functions: May require additional boilerplate code for managing loops and state.\n",
        "\n",
        "6. Infinite Sequences\n",
        "Generators: Capable of producing infinite sequences, such as Fibonacci numbers, without running out of memory.\n",
        "Regular Functions: Not suitable for infinite sequences as they would try to store all values in memory.\"\"\"\n",
        "\n",
        "# Regular Function:\n",
        "\n",
        "\n",
        "def get_squares(n):\n",
        "    result = []\n",
        "    for i in range(n):\n",
        "        result.append(i * i)\n",
        "    return result\n",
        "\n",
        "squares = get_squares(1000000)\n",
        "# print(squares)"
      ],
      "metadata": {
        "id": "NrnmYaf1GiSr"
      },
      "execution_count": null,
      "outputs": []
    },
    {
      "cell_type": "code",
      "source": [
        "# Generator Function\n",
        "\n",
        "def get_squares(n):\n",
        "    for i in range(n):\n",
        "        yield i * i\n",
        "\n",
        "squares = get_squares(1000000)\n",
        "for square in squares:\n",
        "    print(square)"
      ],
      "metadata": {
        "id": "1UoY0gn9IIcb"
      },
      "execution_count": null,
      "outputs": []
    },
    {
      "cell_type": "markdown",
      "source": [
        "# 8. What is a lambda function in Python and when is it typically used?"
      ],
      "metadata": {
        "id": "4niljCAQJEPb"
      }
    },
    {
      "cell_type": "code",
      "source": [
        "\"\"\" A lambda function in Python is a small, anonymous function defined with the \"lambda\" keyword. Unlike regular functions defined with the \"def\" keyword,\n",
        " lambda functions can have any number of arguments but only a single expression. They are typically used for simple operations that are short and concise.\"\"\"\n",
        "\n",
        "add = lambda x, y: x + y\n",
        "result = add(3, 4)\n",
        "\n",
        "print(result)\n"
      ],
      "metadata": {
        "colab": {
          "base_uri": "https://localhost:8080/"
        },
        "id": "9vzgsXrpIkav",
        "outputId": "0e757833-00f6-4c79-d6af-0cce77df9a41"
      },
      "execution_count": null,
      "outputs": [
        {
          "output_type": "stream",
          "name": "stdout",
          "text": [
            "7\n"
          ]
        }
      ]
    },
    {
      "cell_type": "markdown",
      "source": [
        "# 9. Explain the purpose and usage of the `map()` function in Python."
      ],
      "metadata": {
        "id": "YCObziYDK1kh"
      }
    },
    {
      "cell_type": "code",
      "source": [
        "\"\"\" The main purpose of map() is to apply a function to each item in an iterable (like a list, tuple, or string) and produce a new iterable with the transformed items.\n",
        "This is a key feature in functional programming and helps in writing concise and readable code.\"\"\"\n",
        "\n",
        "# Syntax: map(function, iterable, ...)\n",
        "\n",
        "def square(x):\n",
        "    return x * x\n",
        "\n",
        "numbers = [1, 2, 3, 4]\n",
        "squared_numbers = map(square, numbers)\n",
        "\n",
        "print(list(squared_numbers))\n"
      ],
      "metadata": {
        "colab": {
          "base_uri": "https://localhost:8080/"
        },
        "id": "E9_F9pdVJ4DH",
        "outputId": "c7a14fe4-3f41-4e5a-b827-528120210ba8"
      },
      "execution_count": null,
      "outputs": [
        {
          "output_type": "stream",
          "name": "stdout",
          "text": [
            "[1, 4, 9, 16]\n"
          ]
        }
      ]
    },
    {
      "cell_type": "code",
      "source": [
        "# Using Lambda Functions with map():\n",
        "# Lambda functions are often used with map() for brevity and simplicity.\n",
        "\n",
        "\n",
        "numbers = [1, 2, 3, 4]\n",
        "squared_numbers = map(lambda x: x * x, numbers)\n",
        "\n",
        "print(list(squared_numbers))"
      ],
      "metadata": {
        "colab": {
          "base_uri": "https://localhost:8080/"
        },
        "id": "oEkHPOH2LREB",
        "outputId": "e7e2c130-2729-400e-8f88-5e1657648248"
      },
      "execution_count": null,
      "outputs": [
        {
          "output_type": "stream",
          "name": "stdout",
          "text": [
            "[1, 4, 9, 16]\n"
          ]
        }
      ]
    },
    {
      "cell_type": "code",
      "source": [
        "# Usage in Real-World Scenarios:\n",
        "\"\"\" Transforming Data:\n",
        "map() is useful for data transformation tasks such as converting data types or applying mathematical operations.\"\"\"\n",
        "\n",
        "\n",
        "strings = [\"1\", \"2\", \"3\", \"4\"]\n",
        "numbers = map(int, strings)\n",
        "\n",
        "print(list(numbers))"
      ],
      "metadata": {
        "colab": {
          "base_uri": "https://localhost:8080/"
        },
        "id": "9p1WVgKXLjov",
        "outputId": "5e6ada45-11cf-4deb-d9ed-be9f452c1cdb"
      },
      "execution_count": null,
      "outputs": [
        {
          "output_type": "stream",
          "name": "stdout",
          "text": [
            "[1, 2, 3, 4]\n"
          ]
        }
      ]
    },
    {
      "cell_type": "markdown",
      "source": [
        "# 10. What is the difference between `map()`, `reduce()`, and `filter()` functions in Python"
      ],
      "metadata": {
        "id": "gC8ut3z3MIFk"
      }
    },
    {
      "cell_type": "code",
      "source": [
        "# map():\n",
        "\n",
        "\"\"\" Applies a function to every item in an iterable (e.g., list, tuple) and returns an iterator of the results.\n",
        "\n",
        "Syntax: map(function, iterable, ...)\"\"\"\n",
        "\n",
        "def square(x):\n",
        "    return x * x\n",
        "\n",
        "numbers = [1, 2, 3, 4]\n",
        "squared_numbers = map(square, numbers)\n",
        "print(list(squared_numbers))"
      ],
      "metadata": {
        "colab": {
          "base_uri": "https://localhost:8080/"
        },
        "id": "dp8L6hCbMxmV",
        "outputId": "6ba6965c-fb26-4e8b-8194-d047dc5fa081"
      },
      "execution_count": null,
      "outputs": [
        {
          "output_type": "stream",
          "name": "stdout",
          "text": [
            "[1, 4, 9, 16]\n"
          ]
        }
      ]
    },
    {
      "cell_type": "code",
      "source": [
        "# Reduce:\n",
        "\n",
        "\"\"\" Applies a binary function (a function that takes two arguments) cumulatively to the items of an iterable, reducing the iterable to a single value.\n",
        "\n",
        "Syntax: reduce(function, iterable[, initializer])\"\"\"\n",
        "\n",
        "from functools import reduce\n",
        "\n",
        "def add(x, y):\n",
        "    return x + y\n",
        "\n",
        "numbers = [1, 2, 3, 4]\n",
        "total = reduce(add, numbers)\n",
        "print(total)"
      ],
      "metadata": {
        "colab": {
          "base_uri": "https://localhost:8080/"
        },
        "id": "-VOa75FTM58m",
        "outputId": "6896c230-70d6-4d2d-a152-ee1c5b296d62"
      },
      "execution_count": null,
      "outputs": [
        {
          "output_type": "stream",
          "name": "stdout",
          "text": [
            "10\n"
          ]
        }
      ]
    },
    {
      "cell_type": "code",
      "source": [
        "# Filter:\n",
        "\n",
        "\"\"\" Filters elements from an iterable based on a function that returns True or False, and returns an iterator of the elements that satisfy the condition.\n",
        "\n",
        "Syntax: filter(function, iterable)\"\"\"\n",
        "\n",
        "\n",
        "def is_even(x):\n",
        "    return x % 2 == 0\n",
        "\n",
        "numbers = [1, 2, 3, 4]\n",
        "even_numbers = filter(is_even, numbers)\n",
        "print(list(even_numbers))"
      ],
      "metadata": {
        "colab": {
          "base_uri": "https://localhost:8080/"
        },
        "id": "F1Ip8TAzNLDt",
        "outputId": "c46e520a-5928-487e-e211-6c3c3b3cb538"
      },
      "execution_count": null,
      "outputs": [
        {
          "output_type": "stream",
          "name": "stdout",
          "text": [
            "[2, 4]\n"
          ]
        }
      ]
    },
    {
      "cell_type": "markdown",
      "source": [
        "# *Practical Questions*"
      ],
      "metadata": {
        "id": "JXVhaLK9TJBk"
      }
    },
    {
      "cell_type": "markdown",
      "source": [
        "## 1. Write a Python function that takes a list of numbers as input and returns the sum of all even numbers in the list.\n"
      ],
      "metadata": {
        "id": "oWylbmwPTT2z"
      }
    },
    {
      "cell_type": "code",
      "source": [
        "def sum_even_numbers(numbers):\n",
        "\n",
        "    even_numbers = [num for num in numbers if num % 2 == 0]\n",
        "    return sum(even_numbers)\n",
        "\n",
        "numbers = [2, 5, 7, 22]\n",
        "result = sum_even_numbers(numbers)\n",
        "print(\"The sum of even numbers is:\", result)\n"
      ],
      "metadata": {
        "colab": {
          "base_uri": "https://localhost:8080/"
        },
        "id": "iaumhEAjTsEp",
        "outputId": "75906f26-5b87-4c1c-8c86-e34864a81cb8"
      },
      "execution_count": null,
      "outputs": [
        {
          "output_type": "stream",
          "name": "stdout",
          "text": [
            "The sum of even numbers is: 24\n"
          ]
        }
      ]
    },
    {
      "cell_type": "markdown",
      "source": [
        "# 2. Create a Python function that accepts a string and returns the reverse of that string"
      ],
      "metadata": {
        "id": "i-Ha8_-pUrs1"
      }
    },
    {
      "cell_type": "code",
      "source": [
        "def reverse_string(s):\n",
        "\n",
        "    return s[::-1]\n",
        "\n",
        "\n",
        "input_string = \"hello\"\n",
        "rev_string = reverse_string(input_string)\n",
        "print(\"The reverse of the string is:\", rev_string)\n"
      ],
      "metadata": {
        "colab": {
          "base_uri": "https://localhost:8080/"
        },
        "id": "I-KBrWl6UQ3t",
        "outputId": "03bd708e-b37f-4762-f745-f79bd2909e5a"
      },
      "execution_count": null,
      "outputs": [
        {
          "output_type": "stream",
          "name": "stdout",
          "text": [
            "The reverse of the string is: olleh\n"
          ]
        }
      ]
    },
    {
      "cell_type": "markdown",
      "source": [
        "#  3. Implement a Python function that takes a list of integers and returns a new list containing the squares of each number"
      ],
      "metadata": {
        "id": "MrmOTJoAVcbC"
      }
    },
    {
      "cell_type": "code",
      "source": [
        "def square_numbers(numbers):\n",
        "\n",
        "    squared_numbers = [num ** 2 for num in numbers]\n",
        "    return squared_numbers\n",
        "\n",
        "input_list = [1, 2, 3, 4, 5]\n",
        "result = square_numbers(input_list)\n",
        "print(\"The squares of the numbers are:\", result)\n"
      ],
      "metadata": {
        "colab": {
          "base_uri": "https://localhost:8080/"
        },
        "id": "PyULt_0_XgP6",
        "outputId": "f7297f42-5270-4163-9d12-ed27c34e6654"
      },
      "execution_count": null,
      "outputs": [
        {
          "output_type": "stream",
          "name": "stdout",
          "text": [
            "The squares of the numbers are: [1, 4, 9, 16, 25]\n"
          ]
        }
      ]
    },
    {
      "cell_type": "markdown",
      "source": [
        "# 4. Write a Python function that checks if a given number is prime or not from 1 to 200"
      ],
      "metadata": {
        "id": "XT00t-zaYUdC"
      }
    },
    {
      "cell_type": "code",
      "source": [
        "def is_prime(n):\n",
        "\n",
        "    if n <= 1:\n",
        "        return False\n",
        "\n",
        "    for i in range(2, n):\n",
        "        if n % i == 0:\n",
        "            return False\n",
        "    return True\n",
        "\n",
        "\n",
        "numbers_to_check = list(range(1, 201))\n",
        "primes = [num for num in numbers_to_check if is_prime(num)]\n",
        "\n",
        "print(\"Prime numbers from 1 to 200 are:\", primes)\n"
      ],
      "metadata": {
        "colab": {
          "base_uri": "https://localhost:8080/"
        },
        "id": "oGpmEC10YJcu",
        "outputId": "7ad36491-18f3-49c5-c65b-f58f8e9fbb53"
      },
      "execution_count": null,
      "outputs": [
        {
          "output_type": "stream",
          "name": "stdout",
          "text": [
            "Prime numbers from 1 to 200 are: [2, 3, 5, 7, 11, 13, 17, 19, 23, 29, 31, 37, 41, 43, 47, 53, 59, 61, 67, 71, 73, 79, 83, 89, 97, 101, 103, 107, 109, 113, 127, 131, 137, 139, 149, 151, 157, 163, 167, 173, 179, 181, 191, 193, 197, 199]\n"
          ]
        }
      ]
    },
    {
      "cell_type": "markdown",
      "source": [
        "# 5. Create an iterator class in Python that generates the Fibonacci sequence up to a specified number of terms."
      ],
      "metadata": {
        "id": "cCfUm4n4Z1uv"
      }
    },
    {
      "cell_type": "code",
      "source": [
        "def fib(n):\n",
        "  if n <= 1 :\n",
        "    return n\n",
        "  else:\n",
        "    return fib(n - 1) + fib(n - 2)\n",
        "fib(5)"
      ],
      "metadata": {
        "colab": {
          "base_uri": "https://localhost:8080/"
        },
        "id": "o5UjGQieZkXQ",
        "outputId": "7e6140d1-db8b-44eb-8035-fdfe8c65093b"
      },
      "execution_count": null,
      "outputs": [
        {
          "output_type": "execute_result",
          "data": {
            "text/plain": [
              "5"
            ]
          },
          "metadata": {},
          "execution_count": 71
        }
      ]
    },
    {
      "cell_type": "markdown",
      "source": [
        "# 6. Write a generator function in Python that yields the powers of 2 up to a given exponent."
      ],
      "metadata": {
        "id": "ASLQxKPadW_b"
      }
    },
    {
      "cell_type": "code",
      "source": [
        "def power_of_2(max_exponent):\n",
        "    exponent = 0\n",
        "    while exponent <= max_exponent:\n",
        "        yield 2 ** exponent\n",
        "        exponent += 1\n",
        "\n",
        "for power in power_of_2(5):\n",
        "    print(power)\n"
      ],
      "metadata": {
        "colab": {
          "base_uri": "https://localhost:8080/"
        },
        "id": "BcARgqDraxW0",
        "outputId": "85e9a11e-05a8-4017-aa58-eec980b0e12e"
      },
      "execution_count": null,
      "outputs": [
        {
          "output_type": "stream",
          "name": "stdout",
          "text": [
            "1\n",
            "2\n",
            "4\n",
            "8\n",
            "16\n",
            "32\n"
          ]
        }
      ]
    },
    {
      "cell_type": "markdown",
      "source": [
        "# 7. Implement a generator function that reads a file line by line and yields each line as a string"
      ],
      "metadata": {
        "id": "fc3QvSBUe-aJ"
      }
    },
    {
      "cell_type": "code",
      "source": [
        "def read_lines(file_path):\n",
        "    with open(file_path, 'r') as file:\n",
        "        for line in file:\n",
        "            yield line.strip()\n",
        "\n",
        "\n",
        "file_path = 'example.txt'\n",
        "for line in read_lines(file_path):\n",
        "    print(line)"
      ],
      "metadata": {
        "id": "5zM_mKWAfILb"
      },
      "execution_count": null,
      "outputs": []
    },
    {
      "cell_type": "markdown",
      "source": [
        "# 8. Use a lambda function in Python to sort a list of tuples based on the second element of each tuple"
      ],
      "metadata": {
        "id": "mWjMzftSfkIn"
      }
    },
    {
      "cell_type": "code",
      "source": [
        "\n",
        "tuples_list = [(1, 'banana'), (2, 'apple'), (3, 'cherry')]\n",
        "\n",
        "sorted_list = sorted(tuples_list, key=lambda x: x[1])\n",
        "\n",
        "print(sorted_list)\n"
      ],
      "metadata": {
        "colab": {
          "base_uri": "https://localhost:8080/"
        },
        "id": "VvwNxeiEgaxu",
        "outputId": "0ce8e33d-9d38-45f4-e2da-f77a2fba3ccc"
      },
      "execution_count": null,
      "outputs": [
        {
          "output_type": "stream",
          "name": "stdout",
          "text": [
            "[(2, 'apple'), (1, 'banana'), (3, 'cherry')]\n"
          ]
        }
      ]
    },
    {
      "cell_type": "markdown",
      "source": [
        "# 9. Write a Python program that uses `map()` to convert a list of temperatures from Celsius to Fahrenheit"
      ],
      "metadata": {
        "id": "p2mgGHOkguMq"
      }
    },
    {
      "cell_type": "code",
      "source": [
        "\n",
        "celsius_temps = [0, 20, 37, 100]\n",
        "\n",
        "def celsius_to_fahrenheit(celsius):\n",
        "    return (celsius * 9/5) + 32\n",
        "\n",
        "\n",
        "fahrenheit_temps = list(map(celsius_to_fahrenheit, celsius_temps))\n",
        "\n",
        "print(fahrenheit_temps)\n"
      ],
      "metadata": {
        "colab": {
          "base_uri": "https://localhost:8080/"
        },
        "id": "Ido0aEWIge0d",
        "outputId": "eae933ba-9303-41c0-954a-26daf81a816c"
      },
      "execution_count": null,
      "outputs": [
        {
          "output_type": "stream",
          "name": "stdout",
          "text": [
            "[32.0, 68.0, 98.6, 212.0]\n"
          ]
        }
      ]
    },
    {
      "cell_type": "markdown",
      "source": [
        "# 10. Create a Python program that uses `filter()` to remove all the vowels from a given string"
      ],
      "metadata": {
        "id": "EhWrSFaWgtpm"
      }
    },
    {
      "cell_type": "code",
      "source": [
        "def remove_vowels(s):\n",
        "    vowels = 'aeiouAEIOU'\n",
        "    # Filter out characters that are vowels\n",
        "    filtered_chars = filter(lambda char: char not in vowels, s)\n",
        "    # Join the filtered characters back into a string\n",
        "    return ''.join(filtered_chars)\n",
        "\n",
        "\n",
        "input_string = \"Hello, World!\"\n",
        "result = remove_vowels(input_string)\n",
        "print(result)\n"
      ],
      "metadata": {
        "colab": {
          "base_uri": "https://localhost:8080/"
        },
        "id": "7Gf0Mbmjh2X4",
        "outputId": "481e0865-ccfd-422a-9579-23c442c00837"
      },
      "execution_count": null,
      "outputs": [
        {
          "output_type": "stream",
          "name": "stdout",
          "text": [
            "Hll, Wrld!\n"
          ]
        }
      ]
    },
    {
      "cell_type": "markdown",
      "source": [
        "#11) Imagine an accounting routine used in a book shop. It works on a list with sublists, which look like this:\n",
        "# Write a Python program, which returns a list with 2-tuples. Each tuple consists of the order number and the\n",
        "#product of the price per item and the quantity. The product should be increased by 10,- € if the value of the\n",
        "#order is smaller than 100.00 €.\n",
        "# Write a Python program using lambda and map"
      ],
      "metadata": {
        "id": "86KucA1ik6qP"
      }
    },
    {
      "cell_type": "code",
      "source": [
        "orders = [\n",
        "    [34587, \"Learning Python, Mark Lutz\", 4, 40.95],\n",
        "    [98762, \"Programming Python, Mark Lutz\", 5, 56.50],\n",
        "    [77226, \"Head First Python, Paul Barry\", 3, 32.95],\n",
        "    [88112, \"Einführung in Python3, Bernd Klein\", 3, 24.99]\n",
        "]\n",
        "\n",
        "# Function to calculate the total price with the condition\n",
        "calculate_total = lambda order: (order[0], order[2] * order[3] + 10 if order[2] * order[3] < 100 else order[2] * order[3])\n",
        "\n",
        "# Using map to apply the function to all orders\n",
        "result = list(map(calculate_total, orders))\n",
        "\n",
        "print(result)\n"
      ],
      "metadata": {
        "colab": {
          "base_uri": "https://localhost:8080/"
        },
        "id": "uqKSTSMBiqeu",
        "outputId": "83cfde20-11ce-43be-8cc9-c2713bd50f5b"
      },
      "execution_count": null,
      "outputs": [
        {
          "output_type": "stream",
          "name": "stdout",
          "text": [
            "[(34587, 163.8), (98762, 282.5), (77226, 108.85000000000001), (88112, 84.97)]\n"
          ]
        }
      ]
    }
  ]
}